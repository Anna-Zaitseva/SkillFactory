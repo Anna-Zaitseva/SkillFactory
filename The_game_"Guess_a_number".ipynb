{
  "nbformat": 4,
  "nbformat_minor": 0,
  "metadata": {
    "colab": {
      "provenance": [],
      "authorship_tag": "ABX9TyPVx9M/Ck6+2KUHV7k/MkLy",
      "include_colab_link": true
    },
    "kernelspec": {
      "name": "python3",
      "display_name": "Python 3"
    },
    "language_info": {
      "name": "python"
    }
  },
  "cells": [
    {
      "cell_type": "markdown",
      "metadata": {
        "id": "view-in-github",
        "colab_type": "text"
      },
      "source": [
        "<a href=\"https://colab.research.google.com/github/Anna-Zaitseva/SkillFactory/blob/main/The_game_%22Guess_a_number%22.ipynb\" target=\"_parent\"><img src=\"https://colab.research.google.com/assets/colab-badge.svg\" alt=\"Open In Colab\"/></a>"
      ]
    },
    {
      "cell_type": "code",
      "source": [
        "import numpy as np\n",
        "import random"
      ],
      "metadata": {
        "id": "0-OusUuz-Y8W"
      },
      "execution_count": null,
      "outputs": []
    },
    {
      "cell_type": "code",
      "source": [
        "number = random.randint(1,101)  #загаданное целое число"
      ],
      "metadata": {
        "id": "sngwEoRu0vAe"
      },
      "execution_count": null,
      "outputs": []
    },
    {
      "cell_type": "code",
      "execution_count": null,
      "metadata": {
        "id": "WQv6jwMxOmSS"
      },
      "outputs": [],
      "source": [
        "def random_predict(number):  \n",
        "  '''Функция, которая перебирает варианты и сужает диапазон поиска'''   \n",
        "  \n",
        "  count = 0\n",
        "  start = 1 \n",
        "  finish = 100 # верхняя граница\n",
        "  predict_num = np.random.randint(1, 101)  # предполагаемое число, начинаем с рандома\n",
        "    \n",
        "  while True:\n",
        "    count += 1\n",
        "    if number > predict_num:\n",
        "      start = predict_num\n",
        "      predict_num = finish - (finish - start)//2\n",
        "    elif number < predict_num:\n",
        "      finish = predict_num\n",
        "      predict_num = start + (finish - start)//2\n",
        "    else:\n",
        "      break  # выход из цикла если угадали\n",
        "\n",
        "  return count"
      ]
    },
    {
      "cell_type": "code",
      "source": [
        "def score_game(game_core):  \n",
        "  '''За какое количeство попыток в среднем за 1000 подходов угадывает наш алгоритм'''\n",
        "\n",
        "  count_ls = []\n",
        "  np.random.seed(1)  # фиксируем RANDOM SEED, чтобы ваш эксперимент был воспроизводим!\n",
        "  random_array = np.random.randint(1,101, size=(1000))\n",
        "  for number in random_array:\n",
        "    count_ls.append(game_core(number))\n",
        "  \n",
        "  score = int(np.mean(count_ls))\n",
        "  print(f'Ваш алгоритм угадывает число в среднем за {score} попыток')\n",
        "  return(score)\n"
      ],
      "metadata": {
        "id": "bOcckNUeVnjR"
      },
      "execution_count": null,
      "outputs": []
    },
    {
      "cell_type": "code",
      "source": [
        "print(score_game(random_predict))"
      ],
      "metadata": {
        "colab": {
          "base_uri": "https://localhost:8080/"
        },
        "id": "IKZA-Rr1Vl4F",
        "outputId": "03cc7241-76fb-416b-ec01-1ea56cbffcf1",
        "cellView": "code"
      },
      "execution_count": null,
      "outputs": [
        {
          "output_type": "stream",
          "name": "stdout",
          "text": [
            "Ваш алгоритм угадывает число в среднем за 6 попыток\n",
            "6\n"
          ]
        }
      ]
    },
    {
      "cell_type": "code",
      "source": [],
      "metadata": {
        "id": "R7OUoY8xcAii"
      },
      "execution_count": null,
      "outputs": []
    }
  ]
}